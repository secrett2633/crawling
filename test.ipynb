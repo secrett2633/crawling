{
 "cells": [
  {
   "cell_type": "code",
   "execution_count": 48,
   "metadata": {},
   "outputs": [],
   "source": [
    "import selenium\n",
    "from selenium import webdriver\n",
    "from selenium.webdriver import ActionChains\n",
    "\n",
    "from selenium.webdriver.common.keys import Keys\n",
    "from selenium.webdriver.common.by import By\n",
    "\n",
    "from selenium.webdriver.support import expected_conditions as EC\n",
    "from selenium.webdriver.support.ui import Select\n",
    "from selenium.webdriver.support.ui import WebDriverWait"
   ]
  },
  {
   "attachments": {},
   "cell_type": "markdown",
   "metadata": {},
   "source": [
    "***크롬드라이버 실행(자기 크롬 버전에 맞게 설치후 test.ipynb와 같은 경로에 두기)***"
   ]
  },
  {
   "cell_type": "code",
   "execution_count": 55,
   "metadata": {},
   "outputs": [],
   "source": [
    "driver = webdriver.Chrome('chromedriver')\n",
    "url_list = [\"36528615\", \"31317229\", \"1269259731\", \"1779562085\", \"33040151\", \"1675801137\", \"1384361907\", \"1372982703\", \"1681990192\", \"1971062401\"]\n"
   ]
  },
  {
   "attachments": {},
   "cell_type": "markdown",
   "metadata": {},
   "source": [
    "***클릭할 버튼이 없을때까지 스크롤 내림 (일단 임시로 100지정)***"
   ]
  },
  {
   "cell_type": "code",
   "execution_count": 50,
   "metadata": {},
   "outputs": [],
   "source": [
    "from selenium.webdriver.common.by import By\n"
   ]
  },
  {
   "cell_type": "code",
   "execution_count": null,
   "metadata": {},
   "outputs": [],
   "source": [
    "import time\n",
    "import pandas as pd\n",
    "userlink = pd.DataFrame()\n",
    "for _url in url_list[0]:\n",
    "    URL = f\"https://m.place.naver.com/restaurant/{_url}/review/visitor\"  \n",
    "    driver.get(URL)\n",
    "    time.sleep(2.5)\n",
    "    for _ in range(100):\n",
    "        driver.find_element(By.CSS_SELECTOR, \"body\").send_keys(Keys.END)\n",
    "        time.sleep(0.5)\n",
    "        try: driver.find_element(By.CLASS_NAME, 'fvwqf').click()\n",
    "        except: pass\n",
    "        time.sleep(0.1)\n",
    "    \n",
    "    link_list = driver.find_elements(By.CLASS_NAME, \"Hazns\")\n",
    "    link_list = [link.get_attribute(\"href\") for link in link_list]\n",
    "    user_list = driver.find_elements(By.CLASS_NAME, \"sBWyy\")\n",
    "    user_list = [user.text for user in user_list]\n",
    "    review_time_list = driver.find_elements(By.CLASS_NAME, \"sb8UA\")\n",
    "    review_time_list = [reviews.text for reviews in review_time_list]\n",
    "    length = min(len(user_list), len(link_list), len(review_time_list))\n",
    "    userlink2 = pd.DataFrame({'user' : user_list[:length], 'link' : link_list[:length], 'review_time' : review_time_list[:length]}, dtype = str)\n",
    "    userlink = pd.concat([userlink, userlink2], axis = 0, sort=False)"
   ]
  }
 ],
 "metadata": {
  "kernelspec": {
   "display_name": "base",
   "language": "python",
   "name": "python3"
  },
  "language_info": {
   "codemirror_mode": {
    "name": "ipython",
    "version": 3
   },
   "file_extension": ".py",
   "mimetype": "text/x-python",
   "name": "python",
   "nbconvert_exporter": "python",
   "pygments_lexer": "ipython3",
   "version": "3.9.13"
  },
  "orig_nbformat": 4,
  "vscode": {
   "interpreter": {
    "hash": "c0d07f6d1b588df06992a3ebb12e6b30ff5ec3ab47dcce5911add949478db3bf"
   }
  }
 },
 "nbformat": 4,
 "nbformat_minor": 2
}
