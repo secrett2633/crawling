{
 "cells": [
  {
   "cell_type": "code",
   "execution_count": 31,
   "metadata": {},
   "outputs": [],
   "source": [
    "import selenium\n",
    "from selenium import webdriver\n",
    "from selenium.webdriver import ActionChains\n",
    "\n",
    "from selenium.webdriver.common.keys import Keys\n",
    "from selenium.webdriver.common.by import By\n",
    "\n",
    "from selenium.webdriver.support import expected_conditions as EC\n",
    "from selenium.webdriver.support.ui import Select\n",
    "from selenium.webdriver.support.ui import WebDriverWait"
   ]
  },
  {
   "attachments": {},
   "cell_type": "markdown",
   "metadata": {},
   "source": [
    "***크롬드라이버 실행(자기 크롬 버전에 맞게 설치후 test.ipynb와 같은 경로에 두기)***"
   ]
  },
  {
   "cell_type": "code",
   "execution_count": 32,
   "metadata": {},
   "outputs": [],
   "source": [
    "driver = webdriver.Chrome('chromedriver')\n",
    "URL = \"https://m.place.naver.com/restaurant/37754976/review/visitor\"  \n",
    "driver.get(URL)"
   ]
  },
  {
   "attachments": {},
   "cell_type": "markdown",
   "metadata": {},
   "source": [
    "***클릭할 버튼이 없을때까지 스크롤 내림 (일단 임시로 100지정)***"
   ]
  },
  {
   "cell_type": "code",
   "execution_count": 33,
   "metadata": {},
   "outputs": [
    {
     "name": "stderr",
     "output_type": "stream",
     "text": [
      "C:\\Users\\Public\\Documents\\ESTsoft\\CreatorTemp\\ipykernel_2924\\657736494.py:4: DeprecationWarning: find_element_by_xpath is deprecated. Please use find_element(by=By.XPATH, value=xpath) instead\n",
      "  try: driver.find_element_by_xpath('//*[@class=\"fvwqf\"]').click()\n"
     ]
    }
   ],
   "source": [
    "import time\n",
    "for _ in range(100):\n",
    "    driver.find_element(By.CSS_SELECTOR, \"body\").send_keys(Keys.END)\n",
    "    try: driver.find_element_by_xpath('//*[@class=\"fvwqf\"]').click()\n",
    "    except: break\n",
    "    time.sleep(0.1)"
   ]
  },
  {
   "attachments": {},
   "cell_type": "markdown",
   "metadata": {},
   "source": [
    "***유저 아이디, 해당 유저의 리뷰가 있는 링크를 가져오고 저장***"
   ]
  },
  {
   "cell_type": "code",
   "execution_count": 34,
   "metadata": {},
   "outputs": [],
   "source": [
    "import pandas as pd\n",
    "link_list = driver.find_elements(By.CLASS_NAME, \"Hazns\")\n",
    "link_list = [link.get_attribute(\"href\") for link in link_list]\n",
    "user_list = driver.find_elements(By.CLASS_NAME, \"sBWyy\")\n",
    "user_list = [user.text for user in user_list]\n",
    "userlink = pd.DataFrame({'user' : user_list, 'link' : link_list}, dtype = str)"
   ]
  },
  {
   "cell_type": "code",
   "execution_count": 39,
   "metadata": {},
   "outputs": [
    {
     "data": {
      "text/html": [
       "<div>\n",
       "<style scoped>\n",
       "    .dataframe tbody tr th:only-of-type {\n",
       "        vertical-align: middle;\n",
       "    }\n",
       "\n",
       "    .dataframe tbody tr th {\n",
       "        vertical-align: top;\n",
       "    }\n",
       "\n",
       "    .dataframe thead th {\n",
       "        text-align: right;\n",
       "    }\n",
       "</style>\n",
       "<table border=\"1\" class=\"dataframe\">\n",
       "  <thead>\n",
       "    <tr style=\"text-align: right;\">\n",
       "      <th></th>\n",
       "      <th>user</th>\n",
       "      <th>link</th>\n",
       "    </tr>\n",
       "  </thead>\n",
       "  <tbody>\n",
       "    <tr>\n",
       "      <th>0</th>\n",
       "      <td>minh777</td>\n",
       "      <td>https://m.place.naver.com/my/5eff7666d012f64a7...</td>\n",
       "    </tr>\n",
       "    <tr>\n",
       "      <th>1</th>\n",
       "      <td>gus****</td>\n",
       "      <td>https://m.place.naver.com/my/5ee967a98f87a842b...</td>\n",
       "    </tr>\n",
       "    <tr>\n",
       "      <th>2</th>\n",
       "      <td>다람쥐수</td>\n",
       "      <td>https://m.place.naver.com/my/5bcc9083c8bcb60cc...</td>\n",
       "    </tr>\n",
       "    <tr>\n",
       "      <th>3</th>\n",
       "      <td>지지지징</td>\n",
       "      <td>https://m.place.naver.com/my/5beadba2018528052...</td>\n",
       "    </tr>\n",
       "    <tr>\n",
       "      <th>4</th>\n",
       "      <td>루샤25</td>\n",
       "      <td>https://m.place.naver.com/my/5c403394bfed08c22...</td>\n",
       "    </tr>\n",
       "    <tr>\n",
       "      <th>...</th>\n",
       "      <td>...</td>\n",
       "      <td>...</td>\n",
       "    </tr>\n",
       "    <tr>\n",
       "      <th>226</th>\n",
       "      <td>2꽥꽥</td>\n",
       "      <td>https://m.place.naver.com/my/5d19a3f0b59260599...</td>\n",
       "    </tr>\n",
       "    <tr>\n",
       "      <th>227</th>\n",
       "      <td>아프로4999</td>\n",
       "      <td>https://m.place.naver.com/my/5dfaf8f48f87a842b...</td>\n",
       "    </tr>\n",
       "    <tr>\n",
       "      <th>228</th>\n",
       "      <td>Sss54</td>\n",
       "      <td>https://m.place.naver.com/my/5b9ba3b71cb967078...</td>\n",
       "    </tr>\n",
       "    <tr>\n",
       "      <th>229</th>\n",
       "      <td>sin****</td>\n",
       "      <td>https://m.place.naver.com/my/5c6e6ac64bb61f68d...</td>\n",
       "    </tr>\n",
       "    <tr>\n",
       "      <th>230</th>\n",
       "      <td>haz****</td>\n",
       "      <td>https://m.place.naver.com/my/5e8c6dc48f87a842b...</td>\n",
       "    </tr>\n",
       "  </tbody>\n",
       "</table>\n",
       "<p>231 rows × 2 columns</p>\n",
       "</div>"
      ],
      "text/plain": [
       "        user                                               link\n",
       "0    minh777  https://m.place.naver.com/my/5eff7666d012f64a7...\n",
       "1    gus****  https://m.place.naver.com/my/5ee967a98f87a842b...\n",
       "2       다람쥐수  https://m.place.naver.com/my/5bcc9083c8bcb60cc...\n",
       "3       지지지징  https://m.place.naver.com/my/5beadba2018528052...\n",
       "4       루샤25  https://m.place.naver.com/my/5c403394bfed08c22...\n",
       "..       ...                                                ...\n",
       "226      2꽥꽥  https://m.place.naver.com/my/5d19a3f0b59260599...\n",
       "227  아프로4999  https://m.place.naver.com/my/5dfaf8f48f87a842b...\n",
       "228    Sss54  https://m.place.naver.com/my/5b9ba3b71cb967078...\n",
       "229  sin****  https://m.place.naver.com/my/5c6e6ac64bb61f68d...\n",
       "230  haz****  https://m.place.naver.com/my/5e8c6dc48f87a842b...\n",
       "\n",
       "[231 rows x 2 columns]"
      ]
     },
     "execution_count": 39,
     "metadata": {},
     "output_type": "execute_result"
    }
   ],
   "source": [
    "userlink"
   ]
  },
  {
   "attachments": {},
   "cell_type": "markdown",
   "metadata": {},
   "source": [
    "user, link로 이루어진 데이터를 이용함\n",
    "1. 링크로 이동\n",
    "2. 리뷰한 곳의 위치, 매장 이름을 기록"
   ]
  },
  {
   "cell_type": "code",
   "execution_count": 40,
   "metadata": {},
   "outputs": [],
   "source": [
    "driver = webdriver.Chrome('chromedriver')\n",
    "user_locate_restaurant = pd.DataFrame()\n",
    "for i in range(3):    #len(userlink)\n",
    "    name, URL = userlink.iloc[i][0], userlink.iloc[i][1]\n",
    "    driver.get(URL)\n",
    "    for _ in range(10):\n",
    "        driver.find_element(By.CSS_SELECTOR, \"body\").send_keys(Keys.END)\n",
    "    \n",
    "    time.sleep(2)\n",
    "    locate_list = driver.find_elements(By.CLASS_NAME, \"_3daRQ\")\n",
    "    locate_list = [locate.text for locate in locate_list]\n",
    "\n",
    "    restaurant_list = driver.find_elements(By.CLASS_NAME, \"_3FJ1g\")\n",
    "    restaurant_list = [restaurant.text for restaurant in restaurant_list]\n",
    "\n",
    "    save = pd.DataFrame({'user' : [name] * len(locate_list), 'locate' : locate_list, 'restaurant' : restaurant_list}, dtype = str)\n",
    "    user_locate_restaurant = pd.concat([user_locate_restaurant, save], axis = 0, sort=False)\n",
    "    time.sleep(2)"
   ]
  },
  {
   "cell_type": "code",
   "execution_count": 41,
   "metadata": {},
   "outputs": [
    {
     "data": {
      "text/html": [
       "<div>\n",
       "<style scoped>\n",
       "    .dataframe tbody tr th:only-of-type {\n",
       "        vertical-align: middle;\n",
       "    }\n",
       "\n",
       "    .dataframe tbody tr th {\n",
       "        vertical-align: top;\n",
       "    }\n",
       "\n",
       "    .dataframe thead th {\n",
       "        text-align: right;\n",
       "    }\n",
       "</style>\n",
       "<table border=\"1\" class=\"dataframe\">\n",
       "  <thead>\n",
       "    <tr style=\"text-align: right;\">\n",
       "      <th></th>\n",
       "      <th>user</th>\n",
       "      <th>locate</th>\n",
       "      <th>restaurant</th>\n",
       "    </tr>\n",
       "  </thead>\n",
       "  <tbody>\n",
       "    <tr>\n",
       "      <th>0</th>\n",
       "      <td>minh777</td>\n",
       "      <td>군포시 산본동</td>\n",
       "      <td>베타클럽</td>\n",
       "    </tr>\n",
       "    <tr>\n",
       "      <th>1</th>\n",
       "      <td>minh777</td>\n",
       "      <td>군포시 산본동</td>\n",
       "      <td>투덜이네막창 본점</td>\n",
       "    </tr>\n",
       "    <tr>\n",
       "      <th>2</th>\n",
       "      <td>minh777</td>\n",
       "      <td>서울시 한남동</td>\n",
       "      <td>베베베</td>\n",
       "    </tr>\n",
       "    <tr>\n",
       "      <th>3</th>\n",
       "      <td>minh777</td>\n",
       "      <td>군포시 금정동</td>\n",
       "      <td>랑데자뷰 AK플라자 금정점</td>\n",
       "    </tr>\n",
       "    <tr>\n",
       "      <th>4</th>\n",
       "      <td>minh777</td>\n",
       "      <td>수원시 정자동</td>\n",
       "      <td>미남꼬마김밥연구소 정자동본점</td>\n",
       "    </tr>\n",
       "    <tr>\n",
       "      <th>...</th>\n",
       "      <td>...</td>\n",
       "      <td>...</td>\n",
       "      <td>...</td>\n",
       "    </tr>\n",
       "    <tr>\n",
       "      <th>35</th>\n",
       "      <td>다람쥐수</td>\n",
       "      <td>서울시 한남동</td>\n",
       "      <td>베베베</td>\n",
       "    </tr>\n",
       "    <tr>\n",
       "      <th>36</th>\n",
       "      <td>다람쥐수</td>\n",
       "      <td>서울시 등촌동</td>\n",
       "      <td>청기와감자탕등촌점</td>\n",
       "    </tr>\n",
       "    <tr>\n",
       "      <th>37</th>\n",
       "      <td>다람쥐수</td>\n",
       "      <td>전주시 인후동1가</td>\n",
       "      <td>솜리치킨 아중점</td>\n",
       "    </tr>\n",
       "    <tr>\n",
       "      <th>38</th>\n",
       "      <td>다람쥐수</td>\n",
       "      <td>서울시 등촌동</td>\n",
       "      <td>연초밥</td>\n",
       "    </tr>\n",
       "    <tr>\n",
       "      <th>39</th>\n",
       "      <td>다람쥐수</td>\n",
       "      <td>서울시 등촌동</td>\n",
       "      <td>테이퍼드커피</td>\n",
       "    </tr>\n",
       "  </tbody>\n",
       "</table>\n",
       "<p>106 rows × 3 columns</p>\n",
       "</div>"
      ],
      "text/plain": [
       "       user     locate       restaurant\n",
       "0   minh777    군포시 산본동             베타클럽\n",
       "1   minh777    군포시 산본동        투덜이네막창 본점\n",
       "2   minh777    서울시 한남동              베베베\n",
       "3   minh777    군포시 금정동   랑데자뷰 AK플라자 금정점\n",
       "4   minh777    수원시 정자동  미남꼬마김밥연구소 정자동본점\n",
       "..      ...        ...              ...\n",
       "35     다람쥐수    서울시 한남동              베베베\n",
       "36     다람쥐수    서울시 등촌동        청기와감자탕등촌점\n",
       "37     다람쥐수  전주시 인후동1가         솜리치킨 아중점\n",
       "38     다람쥐수    서울시 등촌동              연초밥\n",
       "39     다람쥐수    서울시 등촌동           테이퍼드커피\n",
       "\n",
       "[106 rows x 3 columns]"
      ]
     },
     "execution_count": 41,
     "metadata": {},
     "output_type": "execute_result"
    }
   ],
   "source": [
    "user_locate_restaurant"
   ]
  }
 ],
 "metadata": {
  "kernelspec": {
   "display_name": "Python 3",
   "language": "python",
   "name": "python3"
  },
  "language_info": {
   "codemirror_mode": {
    "name": "ipython",
    "version": 3
   },
   "file_extension": ".py",
   "mimetype": "text/x-python",
   "name": "python",
   "nbconvert_exporter": "python",
   "pygments_lexer": "ipython3",
   "version": "3.10.1"
  },
  "orig_nbformat": 4,
  "vscode": {
   "interpreter": {
    "hash": "08701d851d2bfeea352a94f67d1a782365b31f3d271066893b34929bd57a86b6"
   }
  }
 },
 "nbformat": 4,
 "nbformat_minor": 2
}
